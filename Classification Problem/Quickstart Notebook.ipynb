{
 "cells": [
  {
   "cell_type": "markdown",
   "source": [
    "# Personal Projects"
   ],
   "metadata": {
    "application/vnd.databricks.v1+cell": {
     "title": "",
     "showTitle": false,
     "inputWidgets": {},
     "nuid": "a627be25-9fcd-4b57-84d1-c9f11a155876"
    }
   }
  },
  {
   "cell_type": "code",
   "execution_count": null,
   "outputs": [],
   "source": [
    "#library\n",
    "from pyspark import SparkContext\n",
    "import pandas as pd\n",
    "from pandas import *\n",
    "import seaborn as sns\n",
    "import itertools\n",
    "from collections import defaultdict\n",
    "\n",
    "from sklearn.preprocessing import StandardScaler, MinMaxScaler, RobustScaler\n",
    "from sklearn.metrics import confusion_matrix\n",
    "from sklearn.model_selection import train_test_split\n",
    "import numpy as np\n",
    "from matplotlib import pyplot as plt\n",
    "\n",
    "from sklearn.tree import DecisionTreeClassifier\n",
    "from sklearn.ensemble import RandomForestClassifier\n",
    "\n",
    "import ast\n",
    "\n",
    "import numpy as np\n",
    "\n",
    "SEED = 42"
   ],
   "metadata": {
    "collapsed": false,
    "pycharm": {
     "name": "#%%\n"
    }
   }
  },
  {
   "cell_type": "code",
   "source": [
    "project_data = spark.sql(\"select * from techcost.data_raw_test\")"
   ],
   "metadata": {
    "application/vnd.databricks.v1+cell": {
     "title": "",
     "showTitle": false,
     "inputWidgets": {},
     "nuid": "585b794d-4838-400e-9833-3062b1f9ea25"
    }
   },
   "outputs": [
    {
     "output_type": "display_data",
     "metadata": {
      "application/vnd.databricks.v1+output": {
       "datasetInfos": [
        {
         "name": "project_data",
         "typeStr": "pyspark.sql.dataframe.DataFrame",
         "schema": {
          "fields": [
           {
            "metadata": {},
            "name": "FileName",
            "nullable": true,
            "type": "string"
           },
           {
            "metadata": {},
            "name": "Date",
            "nullable": true,
            "type": "string"
           },
           {
            "metadata": {},
            "name": "SegFile",
            "nullable": true,
            "type": "string"
           },
           {
            "metadata": {},
            "name": "b3",
            "nullable": true,
            "type": "integer"
           },
           {
            "metadata": {},
            "name": "e4",
            "nullable": true,
            "type": "integer"
           },
           {
            "metadata": {},
            "name": "LBE",
            "nullable": true,
            "type": "integer"
           },
           {
            "metadata": {},
            "name": "LB",
            "nullable": true,
            "type": "integer"
           },
           {
            "metadata": {},
            "name": "AC",
            "nullable": true,
            "type": "integer"
           },
           {
            "metadata": {},
            "name": "FM",
            "nullable": true,
            "type": "integer"
           },
           {
            "metadata": {},
            "name": "UC",
            "nullable": true,
            "type": "integer"
           },
           {
            "metadata": {},
            "name": "ASTV",
            "nullable": true,
            "type": "integer"
           },
           {
            "metadata": {},
            "name": "MSTV",
            "nullable": true,
            "type": "string"
           },
           {
            "metadata": {},
            "name": "ALTV",
            "nullable": true,
            "type": "integer"
           },
           {
            "metadata": {},
            "name": "MLTV",
            "nullable": true,
            "type": "string"
           },
           {
            "metadata": {},
            "name": "DL",
            "nullable": true,
            "type": "integer"
           },
           {
            "metadata": {},
            "name": "DS",
            "nullable": true,
            "type": "integer"
           },
           {
            "metadata": {},
            "name": "DP",
            "nullable": true,
            "type": "integer"
           },
           {
            "metadata": {},
            "name": "DR",
            "nullable": true,
            "type": "integer"
           },
           {
            "metadata": {},
            "name": "Width",
            "nullable": true,
            "type": "integer"
           },
           {
            "metadata": {},
            "name": "Min",
            "nullable": true,
            "type": "integer"
           },
           {
            "metadata": {},
            "name": "Max",
            "nullable": true,
            "type": "integer"
           },
           {
            "metadata": {},
            "name": "Nmax",
            "nullable": true,
            "type": "integer"
           },
           {
            "metadata": {},
            "name": "Nzeros",
            "nullable": true,
            "type": "integer"
           },
           {
            "metadata": {},
            "name": "Mode",
            "nullable": true,
            "type": "integer"
           },
           {
            "metadata": {},
            "name": "Mean",
            "nullable": true,
            "type": "integer"
           },
           {
            "metadata": {},
            "name": "Median",
            "nullable": true,
            "type": "integer"
           },
           {
            "metadata": {},
            "name": "Variance",
            "nullable": true,
            "type": "integer"
           },
           {
            "metadata": {},
            "name": "Tendency",
            "nullable": true,
            "type": "integer"
           },
           {
            "metadata": {},
            "name": "A",
            "nullable": true,
            "type": "integer"
           },
           {
            "metadata": {},
            "name": "B29",
            "nullable": true,
            "type": "integer"
           },
           {
            "metadata": {},
            "name": "C",
            "nullable": true,
            "type": "integer"
           },
           {
            "metadata": {},
            "name": "D",
            "nullable": true,
            "type": "integer"
           },
           {
            "metadata": {},
            "name": "E32",
            "nullable": true,
            "type": "integer"
           },
           {
            "metadata": {},
            "name": "AD",
            "nullable": true,
            "type": "integer"
           },
           {
            "metadata": {},
            "name": "DE",
            "nullable": true,
            "type": "integer"
           },
           {
            "metadata": {},
            "name": "LD",
            "nullable": true,
            "type": "integer"
           },
           {
            "metadata": {},
            "name": "FS",
            "nullable": true,
            "type": "integer"
           },
           {
            "metadata": {},
            "name": "SUSP",
            "nullable": true,
            "type": "integer"
           },
           {
            "metadata": {},
            "name": "CLASS",
            "nullable": true,
            "type": "integer"
           },
           {
            "metadata": {},
            "name": "NSP",
            "nullable": true,
            "type": "integer"
           }
          ],
          "type": "struct"
         },
         "tableIdentifier": null
        }
       ],
       "data": "<div class=\"ansiout\"></div>",
       "removedWidgets": [],
       "addedWidgets": {},
       "metadata": {},
       "type": "html",
       "arguments": {}
      }
     },
     "data": {
      "text/html": [
       "<style scoped>\n  .ansiout {\n    display: block;\n    unicode-bidi: embed;\n    white-space: pre-wrap;\n    word-wrap: break-word;\n    word-break: break-all;\n    font-family: \"Source Code Pro\", \"Menlo\", monospace;;\n    font-size: 13px;\n    color: #555;\n    margin-left: 4px;\n    line-height: 19px;\n  }\n</style>\n<div class=\"ansiout\"></div>"
      ]
     },
     "transient": null
    }
   ],
   "execution_count": 0
  },
  {
   "cell_type": "code",
   "source": [
    "data_pd = project_data.toPandas()"
   ],
   "metadata": {
    "application/vnd.databricks.v1+cell": {
     "title": "",
     "showTitle": false,
     "inputWidgets": {},
     "nuid": "ae521908-1f4c-4e7b-aec8-bc899ce28efd"
    }
   },
   "outputs": [
    {
     "output_type": "display_data",
     "metadata": {
      "application/vnd.databricks.v1+output": {
       "datasetInfos": [],
       "data": "<div class=\"ansiout\"></div>",
       "removedWidgets": [],
       "addedWidgets": {},
       "metadata": {},
       "type": "html",
       "arguments": {}
      }
     },
     "data": {
      "text/html": [
       "<style scoped>\n  .ansiout {\n    display: block;\n    unicode-bidi: embed;\n    white-space: pre-wrap;\n    word-wrap: break-word;\n    word-break: break-all;\n    font-family: \"Source Code Pro\", \"Menlo\", monospace;;\n    font-size: 13px;\n    color: #555;\n    margin-left: 4px;\n    line-height: 19px;\n  }\n</style>\n<div class=\"ansiout\"></div>"
      ]
     },
     "transient": null
    }
   ],
   "execution_count": 0
  },
  {
   "cell_type": "code",
   "source": [
    "data_pd.info()"
   ],
   "metadata": {
    "application/vnd.databricks.v1+cell": {
     "title": "",
     "showTitle": false,
     "inputWidgets": {},
     "nuid": "5dd2dc6b-30e3-47f2-b9e8-f3a199e8a9a7"
    }
   },
   "outputs": [
    {
     "output_type": "display_data",
     "metadata": {
      "application/vnd.databricks.v1+output": {
       "datasetInfos": [],
       "data": "<div class=\"ansiout\">&lt;class &#39;pandas.core.frame.DataFrame&#39;&gt;\nRangeIndex: 2126 entries, 0 to 2125\nData columns (total 40 columns):\n #   Column    Non-Null Count  Dtype \n---  ------    --------------  ----- \n 0   FileName  2126 non-null   object\n 1   Date      2126 non-null   object\n 2   SegFile   2126 non-null   object\n 3   b3        2126 non-null   int32 \n 4   e4        2126 non-null   int32 \n 5   LBE       2126 non-null   int32 \n 6   LB        2126 non-null   int32 \n 7   AC        2126 non-null   int32 \n 8   FM        2126 non-null   int32 \n 9   UC        2126 non-null   int32 \n 10  ASTV      2126 non-null   int32 \n 11  MSTV      2126 non-null   object\n 12  ALTV      2126 non-null   int32 \n 13  MLTV      2126 non-null   object\n 14  DL        2126 non-null   int32 \n 15  DS        2126 non-null   int32 \n 16  DP        2126 non-null   int32 \n 17  DR        2126 non-null   int32 \n 18  Width     2126 non-null   int32 \n 19  Min       2126 non-null   int32 \n 20  Max       2126 non-null   int32 \n 21  Nmax      2126 non-null   int32 \n 22  Nzeros    2126 non-null   int32 \n 23  Mode      2126 non-null   int32 \n 24  Mean      2126 non-null   int32 \n 25  Median    2126 non-null   int32 \n 26  Variance  2126 non-null   int32 \n 27  Tendency  2126 non-null   int32 \n 28  A         2126 non-null   int32 \n 29  B29       2126 non-null   int32 \n 30  C         2126 non-null   int32 \n 31  D         2126 non-null   int32 \n 32  E32       2126 non-null   int32 \n 33  AD        2126 non-null   int32 \n 34  DE        2126 non-null   int32 \n 35  LD        2126 non-null   int32 \n 36  FS        2126 non-null   int32 \n 37  SUSP      2126 non-null   int32 \n 38  CLASS     2126 non-null   int32 \n 39  NSP       2126 non-null   int32 \ndtypes: int32(35), object(5)\nmemory usage: 373.8+ KB\n</div>",
       "removedWidgets": [],
       "addedWidgets": {},
       "metadata": {},
       "type": "html",
       "arguments": {}
      }
     },
     "data": {
      "text/html": [
       "<style scoped>\n  .ansiout {\n    display: block;\n    unicode-bidi: embed;\n    white-space: pre-wrap;\n    word-wrap: break-word;\n    word-break: break-all;\n    font-family: \"Source Code Pro\", \"Menlo\", monospace;;\n    font-size: 13px;\n    color: #555;\n    margin-left: 4px;\n    line-height: 19px;\n  }\n</style>\n<div class=\"ansiout\">&lt;class &#39;pandas.core.frame.DataFrame&#39;&gt;\nRangeIndex: 2126 entries, 0 to 2125\nData columns (total 40 columns):\n #   Column    Non-Null Count  Dtype \n---  ------    --------------  ----- \n 0   FileName  2126 non-null   object\n 1   Date      2126 non-null   object\n 2   SegFile   2126 non-null   object\n 3   b3        2126 non-null   int32 \n 4   e4        2126 non-null   int32 \n 5   LBE       2126 non-null   int32 \n 6   LB        2126 non-null   int32 \n 7   AC        2126 non-null   int32 \n 8   FM        2126 non-null   int32 \n 9   UC        2126 non-null   int32 \n 10  ASTV      2126 non-null   int32 \n 11  MSTV      2126 non-null   object\n 12  ALTV      2126 non-null   int32 \n 13  MLTV      2126 non-null   object\n 14  DL        2126 non-null   int32 \n 15  DS        2126 non-null   int32 \n 16  DP        2126 non-null   int32 \n 17  DR        2126 non-null   int32 \n 18  Width     2126 non-null   int32 \n 19  Min       2126 non-null   int32 \n 20  Max       2126 non-null   int32 \n 21  Nmax      2126 non-null   int32 \n 22  Nzeros    2126 non-null   int32 \n 23  Mode      2126 non-null   int32 \n 24  Mean      2126 non-null   int32 \n 25  Median    2126 non-null   int32 \n 26  Variance  2126 non-null   int32 \n 27  Tendency  2126 non-null   int32 \n 28  A         2126 non-null   int32 \n 29  B29       2126 non-null   int32 \n 30  C         2126 non-null   int32 \n 31  D         2126 non-null   int32 \n 32  E32       2126 non-null   int32 \n 33  AD        2126 non-null   int32 \n 34  DE        2126 non-null   int32 \n 35  LD        2126 non-null   int32 \n 36  FS        2126 non-null   int32 \n 37  SUSP      2126 non-null   int32 \n 38  CLASS     2126 non-null   int32 \n 39  NSP       2126 non-null   int32 \ndtypes: int32(35), object(5)\nmemory usage: 373.8+ KB\n</div>"
      ]
     },
     "transient": null
    }
   ],
   "execution_count": 0
  },
  {
   "cell_type": "code",
   "source": [
    "data_pd.dtypes"
   ],
   "metadata": {
    "application/vnd.databricks.v1+cell": {
     "title": "",
     "showTitle": false,
     "inputWidgets": {},
     "nuid": "ecb33b29-4b5d-4723-95f2-8a46b131c4ac"
    }
   },
   "outputs": [
    {
     "output_type": "display_data",
     "metadata": {
      "application/vnd.databricks.v1+output": {
       "datasetInfos": [],
       "data": "<div class=\"ansiout\">Out[5]: FileName    object\nDate        object\nSegFile     object\nb3           int32\ne4           int32\nLBE          int32\nLB           int32\nAC           int32\nFM           int32\nUC           int32\nASTV         int32\nMSTV        object\nALTV         int32\nMLTV        object\nDL           int32\nDS           int32\nDP           int32\nDR           int32\nWidth        int32\nMin          int32\nMax          int32\nNmax         int32\nNzeros       int32\nMode         int32\nMean         int32\nMedian       int32\nVariance     int32\nTendency     int32\nA            int32\nB29          int32\nC            int32\nD            int32\nE32          int32\nAD           int32\nDE           int32\nLD           int32\nFS           int32\nSUSP         int32\nCLASS        int32\nNSP          int32\ndtype: object</div>",
       "removedWidgets": [],
       "addedWidgets": {},
       "metadata": {},
       "type": "html",
       "arguments": {}
      }
     },
     "data": {
      "text/html": [
       "<style scoped>\n  .ansiout {\n    display: block;\n    unicode-bidi: embed;\n    white-space: pre-wrap;\n    word-wrap: break-word;\n    word-break: break-all;\n    font-family: \"Source Code Pro\", \"Menlo\", monospace;;\n    font-size: 13px;\n    color: #555;\n    margin-left: 4px;\n    line-height: 19px;\n  }\n</style>\n<div class=\"ansiout\">Out[5]: FileName    object\nDate        object\nSegFile     object\nb3           int32\ne4           int32\nLBE          int32\nLB           int32\nAC           int32\nFM           int32\nUC           int32\nASTV         int32\nMSTV        object\nALTV         int32\nMLTV        object\nDL           int32\nDS           int32\nDP           int32\nDR           int32\nWidth        int32\nMin          int32\nMax          int32\nNmax         int32\nNzeros       int32\nMode         int32\nMean         int32\nMedian       int32\nVariance     int32\nTendency     int32\nA            int32\nB29          int32\nC            int32\nD            int32\nE32          int32\nAD           int32\nDE           int32\nLD           int32\nFS           int32\nSUSP         int32\nCLASS        int32\nNSP          int32\ndtype: object</div>"
      ]
     },
     "transient": null
    }
   ],
   "execution_count": 0
  },
  {
   "cell_type": "code",
   "source": [
    "data_pd.select_dtypes(include=['object'])"
   ],
   "metadata": {
    "application/vnd.databricks.v1+cell": {
     "title": "",
     "showTitle": false,
     "inputWidgets": {},
     "nuid": "a550560c-a8b4-45f9-a203-763fe8aae743"
    }
   },
   "outputs": [
    {
     "output_type": "display_data",
     "metadata": {
      "application/vnd.databricks.v1+output": {
       "datasetInfos": [],
       "data": "<div>\n<style scoped>\n    .dataframe tbody tr th:only-of-type {\n        vertical-align: middle;\n    }\n\n    .dataframe tbody tr th {\n        vertical-align: top;\n    }\n\n    .dataframe thead th {\n        text-align: right;\n    }\n</style>\n<table border=\"1\" class=\"dataframe\">\n  <thead>\n    <tr style=\"text-align: right;\">\n      <th></th>\n      <th>FileName</th>\n      <th>Date</th>\n      <th>SegFile</th>\n      <th>MSTV</th>\n      <th>MLTV</th>\n    </tr>\n  </thead>\n  <tbody>\n    <tr>\n      <th>0</th>\n      <td>Variab10.txt</td>\n      <td>01/12/1996</td>\n      <td>CTG0001.txt</td>\n      <td>0,5</td>\n      <td>2,4</td>\n    </tr>\n    <tr>\n      <th>1</th>\n      <td>Fmcs_1.txt</td>\n      <td>03/05/1996</td>\n      <td>CTG0002.txt</td>\n      <td>2,1</td>\n      <td>10,4</td>\n    </tr>\n    <tr>\n      <th>2</th>\n      <td>Fmcs_1.txt</td>\n      <td>03/05/1996</td>\n      <td>CTG0003.txt</td>\n      <td>2,1</td>\n      <td>13,4</td>\n    </tr>\n    <tr>\n      <th>3</th>\n      <td>Fmcs_1.txt</td>\n      <td>03/05/1996</td>\n      <td>CTG0004.txt</td>\n      <td>2,4</td>\n      <td>23</td>\n    </tr>\n    <tr>\n      <th>4</th>\n      <td>Fmcs_1.txt</td>\n      <td>03/05/1996</td>\n      <td>CTG0005.txt</td>\n      <td>2,4</td>\n      <td>19,9</td>\n    </tr>\n    <tr>\n      <th>...</th>\n      <td>...</td>\n      <td>...</td>\n      <td>...</td>\n      <td>...</td>\n      <td>...</td>\n    </tr>\n    <tr>\n      <th>2121</th>\n      <td>S8001045.dsp</td>\n      <td>06/06/1998</td>\n      <td>CTG2124.txt</td>\n      <td>0,2</td>\n      <td>7,2</td>\n    </tr>\n    <tr>\n      <th>2122</th>\n      <td>S8001045.dsp</td>\n      <td>06/06/1998</td>\n      <td>CTG2125.txt</td>\n      <td>0,4</td>\n      <td>7,1</td>\n    </tr>\n    <tr>\n      <th>2123</th>\n      <td>S8001045.dsp</td>\n      <td>06/06/1998</td>\n      <td>CTG2126.txt</td>\n      <td>0,4</td>\n      <td>6,1</td>\n    </tr>\n    <tr>\n      <th>2124</th>\n      <td>S8001045.dsp</td>\n      <td>06/06/1998</td>\n      <td>CTG2127.txt</td>\n      <td>0,4</td>\n      <td>7</td>\n    </tr>\n    <tr>\n      <th>2125</th>\n      <td>S8001045.dsp</td>\n      <td>06/06/1998</td>\n      <td>CTG2128.txt</td>\n      <td>0,4</td>\n      <td>5</td>\n    </tr>\n  </tbody>\n</table>\n<p>2126 rows × 5 columns</p>\n</div>",
       "textData": "<div class=\"ansiout\">Out[6]: </div>",
       "removedWidgets": [],
       "addedWidgets": {},
       "metadata": {},
       "type": "htmlSandbox",
       "arguments": {}
      }
     },
     "data": {
      "text/html": [
       "<div>\n<style scoped>\n    .dataframe tbody tr th:only-of-type {\n        vertical-align: middle;\n    }\n\n    .dataframe tbody tr th {\n        vertical-align: top;\n    }\n\n    .dataframe thead th {\n        text-align: right;\n    }\n</style>\n<table border=\"1\" class=\"dataframe\">\n  <thead>\n    <tr style=\"text-align: right;\">\n      <th></th>\n      <th>FileName</th>\n      <th>Date</th>\n      <th>SegFile</th>\n      <th>MSTV</th>\n      <th>MLTV</th>\n    </tr>\n  </thead>\n  <tbody>\n    <tr>\n      <th>0</th>\n      <td>Variab10.txt</td>\n      <td>01/12/1996</td>\n      <td>CTG0001.txt</td>\n      <td>0,5</td>\n      <td>2,4</td>\n    </tr>\n    <tr>\n      <th>1</th>\n      <td>Fmcs_1.txt</td>\n      <td>03/05/1996</td>\n      <td>CTG0002.txt</td>\n      <td>2,1</td>\n      <td>10,4</td>\n    </tr>\n    <tr>\n      <th>2</th>\n      <td>Fmcs_1.txt</td>\n      <td>03/05/1996</td>\n      <td>CTG0003.txt</td>\n      <td>2,1</td>\n      <td>13,4</td>\n    </tr>\n    <tr>\n      <th>3</th>\n      <td>Fmcs_1.txt</td>\n      <td>03/05/1996</td>\n      <td>CTG0004.txt</td>\n      <td>2,4</td>\n      <td>23</td>\n    </tr>\n    <tr>\n      <th>4</th>\n      <td>Fmcs_1.txt</td>\n      <td>03/05/1996</td>\n      <td>CTG0005.txt</td>\n      <td>2,4</td>\n      <td>19,9</td>\n    </tr>\n    <tr>\n      <th>...</th>\n      <td>...</td>\n      <td>...</td>\n      <td>...</td>\n      <td>...</td>\n      <td>...</td>\n    </tr>\n    <tr>\n      <th>2121</th>\n      <td>S8001045.dsp</td>\n      <td>06/06/1998</td>\n      <td>CTG2124.txt</td>\n      <td>0,2</td>\n      <td>7,2</td>\n    </tr>\n    <tr>\n      <th>2122</th>\n      <td>S8001045.dsp</td>\n      <td>06/06/1998</td>\n      <td>CTG2125.txt</td>\n      <td>0,4</td>\n      <td>7,1</td>\n    </tr>\n    <tr>\n      <th>2123</th>\n      <td>S8001045.dsp</td>\n      <td>06/06/1998</td>\n      <td>CTG2126.txt</td>\n      <td>0,4</td>\n      <td>6,1</td>\n    </tr>\n    <tr>\n      <th>2124</th>\n      <td>S8001045.dsp</td>\n      <td>06/06/1998</td>\n      <td>CTG2127.txt</td>\n      <td>0,4</td>\n      <td>7</td>\n    </tr>\n    <tr>\n      <th>2125</th>\n      <td>S8001045.dsp</td>\n      <td>06/06/1998</td>\n      <td>CTG2128.txt</td>\n      <td>0,4</td>\n      <td>5</td>\n    </tr>\n  </tbody>\n</table>\n<p>2126 rows × 5 columns</p>\n</div>"
      ]
     },
     "transient": null
    }
   ],
   "execution_count": 0
  },
  {
   "cell_type": "code",
   "source": [
    "data_pd.drop(columns=[\"FileName\",\"Date\",\"SegFile\", \"b3\", \"e4\"], inplace = True)"
   ],
   "metadata": {
    "application/vnd.databricks.v1+cell": {
     "title": "",
     "showTitle": false,
     "inputWidgets": {},
     "nuid": "2499041c-5077-45e6-a877-e062c41c5f3b"
    }
   },
   "outputs": [
    {
     "output_type": "display_data",
     "metadata": {
      "application/vnd.databricks.v1+output": {
       "datasetInfos": [],
       "data": "<div class=\"ansiout\"></div>",
       "removedWidgets": [],
       "addedWidgets": {},
       "metadata": {},
       "type": "html",
       "arguments": {}
      }
     },
     "data": {
      "text/html": [
       "<style scoped>\n  .ansiout {\n    display: block;\n    unicode-bidi: embed;\n    white-space: pre-wrap;\n    word-wrap: break-word;\n    word-break: break-all;\n    font-family: \"Source Code Pro\", \"Menlo\", monospace;;\n    font-size: 13px;\n    color: #555;\n    margin-left: 4px;\n    line-height: 19px;\n  }\n</style>\n<div class=\"ansiout\"></div>"
      ]
     },
     "transient": null
    }
   ],
   "execution_count": 0
  },
  {
   "cell_type": "code",
   "source": [
    "data_pd[\"MSTV\"]= data_pd[\"MSTV\"].str.replace(\",\",\".\").astype(float)\ndata_pd[\"MLTV\"]= data_pd[\"MLTV\"].str.replace(\",\",\".\").astype(float)"
   ],
   "metadata": {
    "application/vnd.databricks.v1+cell": {
     "title": "",
     "showTitle": false,
     "inputWidgets": {},
     "nuid": "d3a5b986-7958-4a5e-a9a4-7a58abaa0d58"
    }
   },
   "outputs": [
    {
     "output_type": "display_data",
     "metadata": {
      "application/vnd.databricks.v1+output": {
       "datasetInfos": [],
       "data": "<div class=\"ansiout\"></div>",
       "removedWidgets": [],
       "addedWidgets": {},
       "metadata": {},
       "type": "html",
       "arguments": {}
      }
     },
     "data": {
      "text/html": [
       "<style scoped>\n  .ansiout {\n    display: block;\n    unicode-bidi: embed;\n    white-space: pre-wrap;\n    word-wrap: break-word;\n    word-break: break-all;\n    font-family: \"Source Code Pro\", \"Menlo\", monospace;;\n    font-size: 13px;\n    color: #555;\n    margin-left: 4px;\n    line-height: 19px;\n  }\n</style>\n<div class=\"ansiout\"></div>"
      ]
     },
     "transient": null
    }
   ],
   "execution_count": 0
  },
  {
   "cell_type": "code",
   "source": [
    "data_pd.isnull().sum()"
   ],
   "metadata": {
    "application/vnd.databricks.v1+cell": {
     "title": "",
     "showTitle": false,
     "inputWidgets": {},
     "nuid": "5c073431-a6ec-4c71-94aa-70210f426341"
    }
   },
   "outputs": [
    {
     "output_type": "display_data",
     "metadata": {
      "application/vnd.databricks.v1+output": {
       "datasetInfos": [],
       "data": "<div class=\"ansiout\">Out[9]: LBE         0\nLB          0\nAC          0\nFM          0\nUC          0\nASTV        0\nMSTV        0\nALTV        0\nMLTV        0\nDL          0\nDS          0\nDP          0\nDR          0\nWidth       0\nMin         0\nMax         0\nNmax        0\nNzeros      0\nMode        0\nMean        0\nMedian      0\nVariance    0\nTendency    0\nA           0\nB29         0\nC           0\nD           0\nE32         0\nAD          0\nDE          0\nLD          0\nFS          0\nSUSP        0\nCLASS       0\nNSP         0\ndtype: int64</div>",
       "removedWidgets": [],
       "addedWidgets": {},
       "metadata": {},
       "type": "html",
       "arguments": {}
      }
     },
     "data": {
      "text/html": [
       "<style scoped>\n  .ansiout {\n    display: block;\n    unicode-bidi: embed;\n    white-space: pre-wrap;\n    word-wrap: break-word;\n    word-break: break-all;\n    font-family: \"Source Code Pro\", \"Menlo\", monospace;;\n    font-size: 13px;\n    color: #555;\n    margin-left: 4px;\n    line-height: 19px;\n  }\n</style>\n<div class=\"ansiout\">Out[9]: LBE         0\nLB          0\nAC          0\nFM          0\nUC          0\nASTV        0\nMSTV        0\nALTV        0\nMLTV        0\nDL          0\nDS          0\nDP          0\nDR          0\nWidth       0\nMin         0\nMax         0\nNmax        0\nNzeros      0\nMode        0\nMean        0\nMedian      0\nVariance    0\nTendency    0\nA           0\nB29         0\nC           0\nD           0\nE32         0\nAD          0\nDE          0\nLD          0\nFS          0\nSUSP        0\nCLASS       0\nNSP         0\ndtype: int64</div>"
      ]
     },
     "transient": null
    }
   ],
   "execution_count": 0
  },
  {
   "cell_type": "code",
   "source": [
    ""
   ],
   "metadata": {
    "application/vnd.databricks.v1+cell": {
     "title": "",
     "showTitle": false,
     "inputWidgets": {},
     "nuid": "57cc0a86-9763-48da-a646-42874e634f47"
    }
   },
   "outputs": [],
   "execution_count": 0
  },
  {
   "cell_type": "code",
   "source": [
    "x_data = data_pd.drop(columns = [\"NSP\", \"CLASS\"])"
   ],
   "metadata": {
    "application/vnd.databricks.v1+cell": {
     "title": "Feature Importance",
     "showTitle": true,
     "inputWidgets": {},
     "nuid": "75a8ab8d-bba4-4e04-a91c-35919d2aeee4"
    }
   },
   "outputs": [
    {
     "output_type": "display_data",
     "metadata": {
      "application/vnd.databricks.v1+output": {
       "datasetInfos": [],
       "data": "<div class=\"ansiout\"></div>",
       "removedWidgets": [],
       "addedWidgets": {},
       "metadata": {},
       "type": "html",
       "arguments": {}
      }
     },
     "data": {
      "text/html": [
       "<style scoped>\n  .ansiout {\n    display: block;\n    unicode-bidi: embed;\n    white-space: pre-wrap;\n    word-wrap: break-word;\n    word-break: break-all;\n    font-family: \"Source Code Pro\", \"Menlo\", monospace;;\n    font-size: 13px;\n    color: #555;\n    margin-left: 4px;\n    line-height: 19px;\n  }\n</style>\n<div class=\"ansiout\"></div>"
      ]
     },
     "transient": null
    }
   ],
   "execution_count": 0
  },
  {
   "cell_type": "code",
   "source": [
    "x_standard = RobustScaler().fit_transform(x_data.values)\nx = pd.DataFrame(x_standard)\nx.columns = x_data.columns\ny = data_pd[\"NSP\"]"
   ],
   "metadata": {
    "application/vnd.databricks.v1+cell": {
     "title": "",
     "showTitle": false,
     "inputWidgets": {},
     "nuid": "a9e95a8d-f4b0-4ec3-933d-890024313b51"
    }
   },
   "outputs": [
    {
     "output_type": "display_data",
     "metadata": {
      "application/vnd.databricks.v1+output": {
       "datasetInfos": [],
       "data": "<div class=\"ansiout\"></div>",
       "removedWidgets": [],
       "addedWidgets": {},
       "metadata": {},
       "type": "html",
       "arguments": {}
      }
     },
     "data": {
      "text/html": [
       "<style scoped>\n  .ansiout {\n    display: block;\n    unicode-bidi: embed;\n    white-space: pre-wrap;\n    word-wrap: break-word;\n    word-break: break-all;\n    font-family: \"Source Code Pro\", \"Menlo\", monospace;;\n    font-size: 13px;\n    color: #555;\n    margin-left: 4px;\n    line-height: 19px;\n  }\n</style>\n<div class=\"ansiout\"></div>"
      ]
     },
     "transient": null
    }
   ],
   "execution_count": 0
  },
  {
   "cell_type": "code",
   "source": [
    "rnd_clf = DecisionTreeClassifier(random_state=SEED)\nrnd_clf.fit(x, y)"
   ],
   "metadata": {
    "application/vnd.databricks.v1+cell": {
     "title": "",
     "showTitle": false,
     "inputWidgets": {},
     "nuid": "6016e2e1-abdd-48f0-a8b8-f344046b2cf4"
    }
   },
   "outputs": [
    {
     "output_type": "display_data",
     "metadata": {
      "application/vnd.databricks.v1+output": {
       "datasetInfos": [],
       "data": "<div class=\"ansiout\">Out[39]: DecisionTreeClassifier(ccp_alpha=0.0, class_weight=None, criterion=&#39;gini&#39;,\n                       max_depth=None, max_features=None, max_leaf_nodes=None,\n                       min_impurity_decrease=0.0, min_impurity_split=None,\n                       min_samples_leaf=1, min_samples_split=2,\n                       min_weight_fraction_leaf=0.0, presort=&#39;deprecated&#39;,\n                       random_state=42, splitter=&#39;best&#39;)</div>",
       "removedWidgets": [],
       "addedWidgets": {},
       "metadata": {},
       "type": "html",
       "arguments": {}
      }
     },
     "data": {
      "text/html": [
       "<style scoped>\n  .ansiout {\n    display: block;\n    unicode-bidi: embed;\n    white-space: pre-wrap;\n    word-wrap: break-word;\n    word-break: break-all;\n    font-family: \"Source Code Pro\", \"Menlo\", monospace;;\n    font-size: 13px;\n    color: #555;\n    margin-left: 4px;\n    line-height: 19px;\n  }\n</style>\n<div class=\"ansiout\">Out[39]: DecisionTreeClassifier(ccp_alpha=0.0, class_weight=None, criterion=&#39;gini&#39;,\n                       max_depth=None, max_features=None, max_leaf_nodes=None,\n                       min_impurity_decrease=0.0, min_impurity_split=None,\n                       min_samples_leaf=1, min_samples_split=2,\n                       min_weight_fraction_leaf=0.0, presort=&#39;deprecated&#39;,\n                       random_state=42, splitter=&#39;best&#39;)</div>"
      ]
     },
     "transient": null
    }
   ],
   "execution_count": 0
  },
  {
   "cell_type": "code",
   "source": [
    "importance = rnd_clf.feature_importances_\nfeautures_name = x.columns"
   ],
   "metadata": {
    "application/vnd.databricks.v1+cell": {
     "title": "",
     "showTitle": false,
     "inputWidgets": {},
     "nuid": "53d3f271-be95-4e6c-bfd3-01f2924cde5a"
    }
   },
   "outputs": [
    {
     "output_type": "display_data",
     "metadata": {
      "application/vnd.databricks.v1+output": {
       "datasetInfos": [],
       "data": "<div class=\"ansiout\"></div>",
       "removedWidgets": [],
       "addedWidgets": {},
       "metadata": {},
       "type": "html",
       "arguments": {}
      }
     },
     "data": {
      "text/html": [
       "<style scoped>\n  .ansiout {\n    display: block;\n    unicode-bidi: embed;\n    white-space: pre-wrap;\n    word-wrap: break-word;\n    word-break: break-all;\n    font-family: \"Source Code Pro\", \"Menlo\", monospace;;\n    font-size: 13px;\n    color: #555;\n    margin-left: 4px;\n    line-height: 19px;\n  }\n</style>\n<div class=\"ansiout\"></div>"
      ]
     },
     "transient": null
    }
   ],
   "execution_count": 0
  },
  {
   "cell_type": "code",
   "source": [
    "def plot_and_select_importance(importance,names,model_type):\n  #Create arrays from feature importance and feature names\n  feature_importance = np.array(importance)\n  feature_names = np.array(names)\n\n  #Create a DataFrame using a Dictionary\n  data={'feature_names':feature_names,'feature_importance':feature_importance}\n  fi_df = pd.DataFrame(data)\n\n  #Sort the DataFrame in order decreasing feature importance\n  fi_df.sort_values(by=['feature_importance'], ascending=False,inplace=True)\n  \n  #Select feature imp > 0\n  feature_most_imp = list(fi_df[fi_df['feature_importance']>0]['feature_names'].values)\n\n  #Define size of bar plot\n  plt.figure(figsize=(10,8))\n  #Plot Searborn bar chart\n  sns.barplot(x=fi_df['feature_importance'], y=fi_df['feature_names'])\n  #Add chart labels\n  plt.title(model_type + 'FEATURE IMPORTANCE')\n  plt.xlabel('FEATURE IMPORTANCE')\n  plt.ylabel('FEATURE NAMES')\n  \n  return feature_most_imp"
   ],
   "metadata": {
    "application/vnd.databricks.v1+cell": {
     "title": "",
     "showTitle": false,
     "inputWidgets": {},
     "nuid": "a48f6441-7068-4b53-b79f-08fcaddc7514"
    }
   },
   "outputs": [
    {
     "output_type": "display_data",
     "metadata": {
      "application/vnd.databricks.v1+output": {
       "datasetInfos": [],
       "data": "<div class=\"ansiout\"></div>",
       "removedWidgets": [],
       "addedWidgets": {},
       "metadata": {},
       "type": "html",
       "arguments": {}
      }
     },
     "data": {
      "text/html": [
       "<style scoped>\n  .ansiout {\n    display: block;\n    unicode-bidi: embed;\n    white-space: pre-wrap;\n    word-wrap: break-word;\n    word-break: break-all;\n    font-family: \"Source Code Pro\", \"Menlo\", monospace;;\n    font-size: 13px;\n    color: #555;\n    margin-left: 4px;\n    line-height: 19px;\n  }\n</style>\n<div class=\"ansiout\"></div>"
      ]
     },
     "transient": null
    }
   ],
   "execution_count": 0
  },
  {
   "cell_type": "code",
   "source": [
    "feature_to_select = plot_and_select_importance(importance=importance,names=feautures_name,model_type= \"Random Forest Classifier\")"
   ],
   "metadata": {
    "application/vnd.databricks.v1+cell": {
     "title": "",
     "showTitle": false,
     "inputWidgets": {},
     "nuid": "43a92fcf-ecf6-4604-b795-0fc50e0c3c76"
    }
   },
   "outputs": [
    {
     "output_type": "display_data",
     "metadata": {
      "application/vnd.databricks.v1+output": {
       "datasetInfos": [],
       "data": "/plots/2d535ffa-f64f-484c-b6db-0f4399aa7e57.png",
       "removedWidgets": [],
       "addedWidgets": {},
       "metadata": {},
       "type": "image",
       "arguments": {}
      }
     },
     "data": {
      "image/png": "[encoded data removed]"
     },
     "transient": null
    }
   ],
   "execution_count": 0
  },
  {
   "cell_type": "code",
   "source": [
    "feature_to_select = feature_to_select[:5]"
   ],
   "metadata": {
    "application/vnd.databricks.v1+cell": {
     "title": "",
     "showTitle": false,
     "inputWidgets": {},
     "nuid": "76b28fdf-41f4-4458-a4a6-628b665888b9"
    }
   },
   "outputs": [
    {
     "output_type": "display_data",
     "metadata": {
      "application/vnd.databricks.v1+output": {
       "datasetInfos": [],
       "data": "<div class=\"ansiout\"></div>",
       "removedWidgets": [],
       "addedWidgets": {},
       "metadata": {},
       "type": "html",
       "arguments": {}
      }
     },
     "data": {
      "text/html": [
       "<style scoped>\n  .ansiout {\n    display: block;\n    unicode-bidi: embed;\n    white-space: pre-wrap;\n    word-wrap: break-word;\n    word-break: break-all;\n    font-family: \"Source Code Pro\", \"Menlo\", monospace;;\n    font-size: 13px;\n    color: #555;\n    margin-left: 4px;\n    line-height: 19px;\n  }\n</style>\n<div class=\"ansiout\"></div>"
      ]
     },
     "transient": null
    }
   ],
   "execution_count": 0
  },
  {
   "cell_type": "code",
   "source": [
    "feature_to_select"
   ],
   "metadata": {
    "application/vnd.databricks.v1+cell": {
     "title": "",
     "showTitle": false,
     "inputWidgets": {},
     "nuid": "b9307e6d-32d0-4185-8221-06fbe1540adf"
    }
   },
   "outputs": [
    {
     "output_type": "display_data",
     "metadata": {
      "application/vnd.databricks.v1+output": {
       "datasetInfos": [],
       "data": "<div class=\"ansiout\">Out[46]: [&#39;SUSP&#39;, &#39;LD&#39;, &#39;FS&#39;, &#39;E32&#39;, &#39;LBE&#39;]</div>",
       "removedWidgets": [],
       "addedWidgets": {},
       "metadata": {},
       "type": "html",
       "arguments": {}
      }
     },
     "data": {
      "text/html": [
       "<style scoped>\n  .ansiout {\n    display: block;\n    unicode-bidi: embed;\n    white-space: pre-wrap;\n    word-wrap: break-word;\n    word-break: break-all;\n    font-family: \"Source Code Pro\", \"Menlo\", monospace;;\n    font-size: 13px;\n    color: #555;\n    margin-left: 4px;\n    line-height: 19px;\n  }\n</style>\n<div class=\"ansiout\">Out[46]: [&#39;SUSP&#39;, &#39;LD&#39;, &#39;FS&#39;, &#39;E32&#39;, &#39;LBE&#39;]</div>"
      ]
     },
     "transient": null
    }
   ],
   "execution_count": 0
  },
  {
   "cell_type": "code",
   "source": [
    "X_train, X_test, y_train, y_test = train_test_split(x[feature_to_select], y, test_size=0.2, random_state = SEED, stratify = y)"
   ],
   "metadata": {
    "application/vnd.databricks.v1+cell": {
     "title": "",
     "showTitle": false,
     "inputWidgets": {},
     "nuid": "b2e56cc0-edc9-4f3e-a227-531c0cc7d015"
    }
   },
   "outputs": [
    {
     "output_type": "display_data",
     "metadata": {
      "application/vnd.databricks.v1+output": {
       "datasetInfos": [],
       "data": "<div class=\"ansiout\"></div>",
       "removedWidgets": [],
       "addedWidgets": {},
       "metadata": {},
       "type": "html",
       "arguments": {}
      }
     },
     "data": {
      "text/html": [
       "<style scoped>\n  .ansiout {\n    display: block;\n    unicode-bidi: embed;\n    white-space: pre-wrap;\n    word-wrap: break-word;\n    word-break: break-all;\n    font-family: \"Source Code Pro\", \"Menlo\", monospace;;\n    font-size: 13px;\n    color: #555;\n    margin-left: 4px;\n    line-height: 19px;\n  }\n</style>\n<div class=\"ansiout\"></div>"
      ]
     },
     "transient": null
    }
   ],
   "execution_count": 0
  },
  {
   "cell_type": "code",
   "source": [
    "# Fitting Random Forest Classification to the Training set\nclassifier = RandomForestClassifier(random_state = SEED)\nclassifier.fit(X_train, y_train)"
   ],
   "metadata": {
    "application/vnd.databricks.v1+cell": {
     "title": "",
     "showTitle": false,
     "inputWidgets": {},
     "nuid": "be399dd7-4b4e-4549-b4c5-a2de16a6403d"
    }
   },
   "outputs": [
    {
     "output_type": "display_data",
     "metadata": {
      "application/vnd.databricks.v1+output": {
       "datasetInfos": [],
       "data": "<div class=\"ansiout\">Out[76]: RandomForestClassifier(bootstrap=True, ccp_alpha=0.0, class_weight=None,\n                       criterion=&#39;gini&#39;, max_depth=None, max_features=&#39;auto&#39;,\n                       max_leaf_nodes=None, max_samples=None,\n                       min_impurity_decrease=0.0, min_impurity_split=None,\n                       min_samples_leaf=1, min_samples_split=2,\n                       min_weight_fraction_leaf=0.0, n_estimators=100,\n                       n_jobs=None, oob_score=False, random_state=42, verbose=0,\n                       warm_start=False)</div>",
       "removedWidgets": [],
       "addedWidgets": {},
       "metadata": {},
       "type": "html",
       "arguments": {}
      }
     },
     "data": {
      "text/html": [
       "<style scoped>\n  .ansiout {\n    display: block;\n    unicode-bidi: embed;\n    white-space: pre-wrap;\n    word-wrap: break-word;\n    word-break: break-all;\n    font-family: \"Source Code Pro\", \"Menlo\", monospace;;\n    font-size: 13px;\n    color: #555;\n    margin-left: 4px;\n    line-height: 19px;\n  }\n</style>\n<div class=\"ansiout\">Out[76]: RandomForestClassifier(bootstrap=True, ccp_alpha=0.0, class_weight=None,\n                       criterion=&#39;gini&#39;, max_depth=None, max_features=&#39;auto&#39;,\n                       max_leaf_nodes=None, max_samples=None,\n                       min_impurity_decrease=0.0, min_impurity_split=None,\n                       min_samples_leaf=1, min_samples_split=2,\n                       min_weight_fraction_leaf=0.0, n_estimators=100,\n                       n_jobs=None, oob_score=False, random_state=42, verbose=0,\n                       warm_start=False)</div>"
      ]
     },
     "transient": null
    }
   ],
   "execution_count": 0
  },
  {
   "cell_type": "code",
   "source": [
    "y_pred = classifier.predict(X_test)"
   ],
   "metadata": {
    "application/vnd.databricks.v1+cell": {
     "title": "",
     "showTitle": false,
     "inputWidgets": {},
     "nuid": "30d35be3-ea58-4322-8daa-86387a181f65"
    }
   },
   "outputs": [
    {
     "output_type": "display_data",
     "metadata": {
      "application/vnd.databricks.v1+output": {
       "datasetInfos": [],
       "data": "<div class=\"ansiout\"></div>",
       "removedWidgets": [],
       "addedWidgets": {},
       "metadata": {},
       "type": "html",
       "arguments": {}
      }
     },
     "data": {
      "text/html": [
       "<style scoped>\n  .ansiout {\n    display: block;\n    unicode-bidi: embed;\n    white-space: pre-wrap;\n    word-wrap: break-word;\n    word-break: break-all;\n    font-family: \"Source Code Pro\", \"Menlo\", monospace;;\n    font-size: 13px;\n    color: #555;\n    margin-left: 4px;\n    line-height: 19px;\n  }\n</style>\n<div class=\"ansiout\"></div>"
      ]
     },
     "transient": null
    }
   ],
   "execution_count": 0
  },
  {
   "cell_type": "code",
   "source": [
    "# Accuracy and f1_weighted value of Final Model\n\n# %% f1 score\nimport sklearn.metrics as metrics\nprint(\"f1_weighted:\",metrics.f1_score(y_test, y_pred ,average='weighted'))\n\n# %% Accuracy\n\nprint(\"accuracy:\",metrics.accuracy_score(y_test, y_pred))"
   ],
   "metadata": {
    "application/vnd.databricks.v1+cell": {
     "title": "",
     "showTitle": false,
     "inputWidgets": {},
     "nuid": "e3f007ff-da67-463c-9aa8-40ce6048d138"
    }
   },
   "outputs": [
    {
     "output_type": "display_data",
     "metadata": {
      "application/vnd.databricks.v1+output": {
       "datasetInfos": [],
       "data": "<div class=\"ansiout\">f1_weighted: 0.9760021572219385\naccuracy: 0.9765258215962441\n</div>",
       "removedWidgets": [],
       "addedWidgets": {},
       "metadata": {},
       "type": "html",
       "arguments": {}
      }
     },
     "data": {
      "text/html": [
       "<style scoped>\n  .ansiout {\n    display: block;\n    unicode-bidi: embed;\n    white-space: pre-wrap;\n    word-wrap: break-word;\n    word-break: break-all;\n    font-family: \"Source Code Pro\", \"Menlo\", monospace;;\n    font-size: 13px;\n    color: #555;\n    margin-left: 4px;\n    line-height: 19px;\n  }\n</style>\n<div class=\"ansiout\">f1_weighted: 0.9760021572219385\naccuracy: 0.9765258215962441\n</div>"
      ]
     },
     "transient": null
    }
   ],
   "execution_count": 0
  },
  {
   "cell_type": "code",
   "source": [
    "from sklearn.metrics import classification_report\n\nprint(classification_report(y_pred, y_test))"
   ],
   "metadata": {
    "application/vnd.databricks.v1+cell": {
     "title": "",
     "showTitle": false,
     "inputWidgets": {},
     "nuid": "be2dca5c-4f88-4b80-b67a-4dd18622ccdd"
    }
   },
   "outputs": [
    {
     "output_type": "display_data",
     "metadata": {
      "application/vnd.databricks.v1+output": {
       "datasetInfos": [],
       "data": "<div class=\"ansiout\">              precision    recall  f1-score   support\n\n           1       0.99      0.98      0.99       338\n           2       0.86      0.96      0.91        53\n           3       1.00      1.00      1.00        35\n\n    accuracy                           0.98       426\n   macro avg       0.95      0.98      0.97       426\nweighted avg       0.98      0.98      0.98       426\n\n</div>",
       "removedWidgets": [],
       "addedWidgets": {},
       "metadata": {},
       "type": "html",
       "arguments": {}
      }
     },
     "data": {
      "text/html": [
       "<style scoped>\n  .ansiout {\n    display: block;\n    unicode-bidi: embed;\n    white-space: pre-wrap;\n    word-wrap: break-word;\n    word-break: break-all;\n    font-family: \"Source Code Pro\", \"Menlo\", monospace;;\n    font-size: 13px;\n    color: #555;\n    margin-left: 4px;\n    line-height: 19px;\n  }\n</style>\n<div class=\"ansiout\">              precision    recall  f1-score   support\n\n           1       0.99      0.98      0.99       338\n           2       0.86      0.96      0.91        53\n           3       1.00      1.00      1.00        35\n\n    accuracy                           0.98       426\n   macro avg       0.95      0.98      0.97       426\nweighted avg       0.98      0.98      0.98       426\n\n</div>"
      ]
     },
     "transient": null
    }
   ],
   "execution_count": 0
  }
 ],
 "metadata": {
  "application/vnd.databricks.v1+notebook": {
   "notebookName": "Quickstart Notebook",
   "dashboards": [],
   "notebookMetadata": {
    "pythonIndentUnit": 2
   },
   "language": "python",
   "widgets": {},
   "notebookOrigID": 4231008231516832
  }
 },
 "nbformat": 4,
 "nbformat_minor": 0
}