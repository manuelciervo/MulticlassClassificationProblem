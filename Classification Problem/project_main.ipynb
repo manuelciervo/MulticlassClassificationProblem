{
 "cells": [
  {
   "cell_type": "markdown",
   "metadata": {},
   "source": [
    "# Overview"
   ]
  },
  {
   "cell_type": "markdown",
   "metadata": {},
   "source": [
    "1. Project Context\n",
    "2. Build Multiclass Classification Model\n",
    "3. Evaluating Model\n",
    "4. Feuture Analysis"
   ]
  },
  {
   "cell_type": "markdown",
   "metadata": {},
   "source": [
    "#  1. Project Context"
   ]
  },
  {
   "cell_type": "markdown",
   "metadata": {},
   "source": [
    "**Objective**\n"
   ]
  },
  {
   "cell_type": "markdown",
   "metadata": {},
   "source": []
  },
  {
   "cell_type": "markdown",
   "metadata": {},
   "source": [
    "**Data Schema**\n"
   ]
  },
  {
   "cell_type": "markdown",
   "source": [
    "# 2. Data Analysis and Feature Selection"
   ],
   "metadata": {
    "collapsed": false
   }
  },
  {
   "cell_type": "code",
   "execution_count": 80,
   "outputs": [],
   "source": [
    "#library\n",
    "import pandas as pd\n",
    "import numpy as np\n",
    "from matplotlib import pyplot as plt\n",
    "import seaborn as sns\n",
    "\n",
    "from sklearn.preprocessing import StandardScaler, MinMaxScaler, RobustScaler\n",
    "from sklearn import metrics\n",
    "from sklearn.model_selection import train_test_split\n",
    "\n",
    "from sklearn.tree import DecisionTreeClassifier\n",
    "from sklearn.ensemble import RandomForestClassifier\n",
    "\n",
    "SEED = 42"
   ],
   "metadata": {
    "collapsed": false,
    "pycharm": {
     "name": "#%%\n"
    }
   }
  },
  {
   "cell_type": "markdown",
   "source": [
    "**Dataset Loading and Schema Review**"
   ],
   "metadata": {
    "collapsed": false
   }
  },
  {
   "cell_type": "code",
   "execution_count": 4,
   "outputs": [],
   "source": [
    "path_input = \"data\"\n",
    "dataset = \"dataset.csv\"\n",
    "\n",
    "df = pd.read_csv(path_input + \"/\" + dataset, sep = \";\", decimal = \",\")"
   ],
   "metadata": {
    "collapsed": false,
    "pycharm": {
     "name": "#%%\n"
    }
   }
  },
  {
   "cell_type": "code",
   "execution_count": 10,
   "outputs": [
    {
     "data": {
      "text/plain": "LB          0\nAC          0\nFM          0\nUC          0\nDL          0\nDS          0\nDP          0\nASTV        0\nMSTV        0\nALTV        0\nMLTV        0\nWidth       0\nMin         0\nMax         0\nNmax        0\nNzeros      0\nMode        0\nMean        0\nMedian      0\nVariance    0\nTendency    0\nNSP         0\ndtype: int64"
     },
     "execution_count": 10,
     "metadata": {},
     "output_type": "execute_result"
    }
   ],
   "source": [
    "df.isnull().sum()"
   ],
   "metadata": {
    "collapsed": false,
    "pycharm": {
     "name": "#%%\n"
    }
   }
  },
  {
   "cell_type": "code",
   "execution_count": 7,
   "outputs": [
    {
     "data": {
      "text/plain": "<AxesSubplot:xlabel='NSP', ylabel='Count'>"
     },
     "execution_count": 7,
     "metadata": {},
     "output_type": "execute_result"
    },
    {
     "data": {
      "text/plain": "<Figure size 432x288 with 1 Axes>",
      "image/png": "[encoded data removed]"
     },
     "metadata": {
      "needs_background": "light"
     },
     "output_type": "display_data"
    }
   ],
   "source": [
    "#Display historam of target Class\n",
    "sns.histplot(df['NSP'])"
   ],
   "metadata": {
    "collapsed": false,
    "pycharm": {
     "name": "#%%\n"
    }
   }
  },
  {
   "cell_type": "markdown",
   "source": [
    "- Valori Nulli\n",
    "    - Non sono presenti valori nulli nelle fauture\n",
    "\n",
    "\n",
    "- Target Class\n",
    "    - La class target non è distribuita uniformemente essendoci un maggior numero di valori Normali. Nella fase di train test split ne dovrò tenere conto"
   ],
   "metadata": {
    "collapsed": false
   }
  },
  {
   "cell_type": "markdown",
   "source": [
    "**Feature Selection**\n",
    "\n",
    "Non conoscendo il tipo di dato è bene capire quali siano le fature che hanno un maggior impatto sulla colonna target in modo da selezionarle in fase di sviluppo del modello"
   ],
   "metadata": {
    "collapsed": false,
    "pycharm": {
     "name": "#%% md\n"
    }
   }
  },
  {
   "cell_type": "code",
   "execution_count": 99,
   "outputs": [],
   "source": [
    "x_data = df.drop(columns = [\"NSP\"])\n",
    "\n",
    "feautures_name = x_data.columns\n",
    "\n",
    "#Perchè RobustScaler?\n",
    "x_standard = RobustScaler().fit_transform(x_data.values)\n",
    "x = pd.DataFrame(x_standard)\n",
    "x.columns = feautures_name\n",
    "y = df[\"NSP\"]\n",
    "\n",
    "X_train, X_test, y_train, y_test = train_test_split(x, y, test_size=0.3, random_state=SEED,stratify=y)"
   ],
   "metadata": {
    "collapsed": false,
    "pycharm": {
     "name": "#%%\n"
    }
   }
  },
  {
   "cell_type": "code",
   "execution_count": 104,
   "outputs": [],
   "source": [
    "clf_DTC = DecisionTreeClassifier(random_state=SEED)\n",
    "clf_DTC.fit(X_train, y_train)\n",
    "\n",
    "y_pred_DTC = clf_DTC.predict(X_test)"
   ],
   "metadata": {
    "collapsed": false,
    "pycharm": {
     "name": "#%%\n"
    }
   }
  },
  {
   "cell_type": "code",
   "execution_count": null,
   "outputs": [],
   "source": [],
   "metadata": {
    "collapsed": false,
    "pycharm": {
     "name": "#%%\n"
    }
   }
  },
  {
   "cell_type": "code",
   "execution_count": 105,
   "outputs": [
    {
     "name": "stdout",
     "output_type": "stream",
     "text": [
      "f1_weighted: 0.9132575879160922\n",
      "accuracy: 0.9153605015673981\n",
      "              precision    recall  f1-score   support\n",
      "\n",
      "      Normal       0.96      0.94      0.95       507\n",
      "  Pathologic       0.94      0.93      0.93        54\n",
      "     Suspect       0.66      0.75      0.70        77\n",
      "\n",
      "    accuracy                           0.92       638\n",
      "   macro avg       0.85      0.87      0.86       638\n",
      "weighted avg       0.92      0.92      0.92       638\n",
      "\n"
     ]
    }
   ],
   "source": [
    "# f1 Pesato\n",
    "\n",
    "print(\"f1_weighted:\",metrics.f1_score(y_test, y_pred_DTC ,average='weighted'))\n",
    "\n",
    "# Accuratezza\n",
    "\n",
    "print(\"accuracy:\",metrics.accuracy_score(y_test, y_pred_DTC))\n",
    "\n",
    "# Classification Report\n",
    "print(metrics.classification_report(y_pred_DTC, y_test))"
   ],
   "metadata": {
    "collapsed": false,
    "pycharm": {
     "name": "#%%\n"
    }
   }
  },
  {
   "cell_type": "code",
   "execution_count": 107,
   "outputs": [],
   "source": [
    "clf_RMC = RandomForestClassifier(random_state=SEED)\n",
    "clf_RMC.fit(X_train, y_train)\n",
    "y_pred_RMC = clf_RMC.predict(X_test)"
   ],
   "metadata": {
    "collapsed": false,
    "pycharm": {
     "name": "#%%\n"
    }
   }
  },
  {
   "cell_type": "code",
   "execution_count": 108,
   "outputs": [
    {
     "name": "stdout",
     "output_type": "stream",
     "text": [
      "f1_weighted: 0.9428251641276724\n",
      "accuracy: 0.9435736677115988\n",
      "              precision    recall  f1-score   support\n",
      "\n",
      "      Normal       0.97      0.96      0.97       501\n",
      "  Pathologic       0.96      0.91      0.94        56\n",
      "     Suspect       0.78      0.85      0.82        81\n",
      "\n",
      "    accuracy                           0.94       638\n",
      "   macro avg       0.91      0.91      0.91       638\n",
      "weighted avg       0.95      0.94      0.94       638\n",
      "\n"
     ]
    }
   ],
   "source": [
    "# f1 Pesato\n",
    "\n",
    "print(\"f1_weighted:\",metrics.f1_score(y_test, y_pred_RMC ,average='weighted'))\n",
    "\n",
    "# Accuratezza\n",
    "\n",
    "print(\"accuracy:\",metrics.accuracy_score(y_test, y_pred_RMC))\n",
    "\n",
    "# Classification Report\n",
    "\n",
    "print(metrics.classification_report(y_pred_RMC, y_test))"
   ],
   "metadata": {
    "collapsed": false,
    "pycharm": {
     "name": "#%%\n"
    }
   }
  },
  {
   "cell_type": "code",
   "execution_count": 95,
   "outputs": [],
   "source": [],
   "metadata": {
    "collapsed": false,
    "pycharm": {
     "name": "#%%\n"
    }
   }
  },
  {
   "cell_type": "code",
   "execution_count": 109,
   "outputs": [],
   "source": [
    "def plot_importance(importance,names,model_type):\n",
    "  #Create arrays from feature importance and feature names\n",
    "  feature_importance = np.array(importance)\n",
    "  feature_names = np.array(names)\n",
    "\n",
    "  #Create a DataFrame using a Dictionary\n",
    "  data={'feature_names':feature_names,'feature_importance':feature_importance}\n",
    "  fi_df = pd.DataFrame(data)\n",
    "\n",
    "  #Sort the DataFrame in order decreasing feature importance\n",
    "  fi_df.sort_values(by=['feature_importance'], ascending=False,inplace=True)\n",
    "\n",
    "  #Define size of bar plot\n",
    "  plt.figure(figsize=(10,8))\n",
    "  #Plot Searborn bar chart\n",
    "  sns.barplot(x=fi_df['feature_importance'], y=fi_df['feature_names'])\n",
    "  #Add chart labels\n",
    "  plt.title(model_type + ' FEATURE IMPORTANCE')\n",
    "  plt.xlabel('FEATURE IMPORTANCE')\n",
    "  plt.ylabel('FEATURE NAMES')\n",
    "\n",
    "  return"
   ],
   "metadata": {
    "collapsed": false,
    "pycharm": {
     "name": "#%%\n"
    }
   }
  },
  {
   "cell_type": "code",
   "execution_count": 110,
   "outputs": [
    {
     "data": {
      "text/plain": "<Figure size 720x576 with 1 Axes>",
      "image/png": "[encoded data removed]"
     },
     "metadata": {
      "needs_background": "light"
     },
     "output_type": "display_data"
    }
   ],
   "source": [
    "feature_to_select = plot_importance(importance=clf_RMC.feature_importances_,\n",
    "                                    names=feautures_name,\n",
    "                                    model_type= clf_RMC.__class__.__name__)"
   ],
   "metadata": {
    "collapsed": false,
    "pycharm": {
     "name": "#%%\n"
    }
   }
  }
 ],
 "metadata": {
  "kernelspec": {
   "display_name": "Python 3",
   "language": "python",
   "name": "python3"
  },
  "language_info": {
   "codemirror_mode": {
    "name": "ipython",
    "version": 3
   },
   "file_extension": ".py",
   "mimetype": "text/x-python",
   "name": "python",
   "nbconvert_exporter": "python",
   "pygments_lexer": "ipython3",
   "version": "3.7.6"
  }
 },
 "nbformat": 4,
 "nbformat_minor": 2
}